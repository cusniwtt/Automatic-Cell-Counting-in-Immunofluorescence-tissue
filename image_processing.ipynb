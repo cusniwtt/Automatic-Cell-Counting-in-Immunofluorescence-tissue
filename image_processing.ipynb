{
 "cells": [
  {
   "cell_type": "markdown",
   "metadata": {},
   "source": [
    "# Test case with Image Processing"
   ]
  },
  {
   "cell_type": "markdown",
   "metadata": {},
   "source": [
    "## Baseline"
   ]
  },
  {
   "cell_type": "markdown",
   "metadata": {},
   "source": [
    "Import supplyment library and function"
   ]
  },
  {
   "cell_type": "code",
   "execution_count": 1,
   "metadata": {},
   "outputs": [],
   "source": [
    "import cv2\n",
    "import numpy as np\n",
    "import pandas as pd\n",
    "import matplotlib.pyplot as plt\n",
    "import os\n",
    "\n",
    "from image_function import *"
   ]
  },
  {
   "cell_type": "markdown",
   "metadata": {},
   "source": [
    "Get file path"
   ]
  },
  {
   "cell_type": "code",
   "execution_count": 2,
   "metadata": {},
   "outputs": [
    {
     "ename": "TypeError",
     "evalue": "argument of type 'NoneType' is not iterable",
     "output_type": "error",
     "traceback": [
      "\u001b[0;31m---------------------------------------------------------------------------\u001b[0m",
      "\u001b[0;31mTypeError\u001b[0m                                 Traceback (most recent call last)",
      "\u001b[1;32m/Users/cusniwtt/Documents/GitHub/Automatic-cell-counting-in-immunofluorescence-tissue/image_processing.ipynb Cell 6\u001b[0m in \u001b[0;36m<cell line: 4>\u001b[0;34m()\u001b[0m\n\u001b[1;32m      <a href='vscode-notebook-cell:/Users/cusniwtt/Documents/GitHub/Automatic-cell-counting-in-immunofluorescence-tissue/image_processing.ipynb#X11sZmlsZQ%3D%3D?line=1'>2</a>\u001b[0m files \u001b[39m=\u001b[39m os\u001b[39m.\u001b[39mlistdir(root)\n\u001b[1;32m      <a href='vscode-notebook-cell:/Users/cusniwtt/Documents/GitHub/Automatic-cell-counting-in-immunofluorescence-tissue/image_processing.ipynb#X11sZmlsZQ%3D%3D?line=2'>3</a>\u001b[0m files \u001b[39m=\u001b[39m files\u001b[39m.\u001b[39msort()\n\u001b[0;32m----> <a href='vscode-notebook-cell:/Users/cusniwtt/Documents/GitHub/Automatic-cell-counting-in-immunofluorescence-tissue/image_processing.ipynb#X11sZmlsZQ%3D%3D?line=3'>4</a>\u001b[0m \u001b[39mif\u001b[39;00m \u001b[39m'\u001b[39;49m\u001b[39m.DS_Store\u001b[39;49m\u001b[39m'\u001b[39;49m \u001b[39min\u001b[39;49;00m files: \u001b[39m# for macOS file system\u001b[39;00m\n\u001b[1;32m      <a href='vscode-notebook-cell:/Users/cusniwtt/Documents/GitHub/Automatic-cell-counting-in-immunofluorescence-tissue/image_processing.ipynb#X11sZmlsZQ%3D%3D?line=4'>5</a>\u001b[0m     files\u001b[39m.\u001b[39mremove(\u001b[39m'\u001b[39m\u001b[39m.DS_Store\u001b[39m\u001b[39m'\u001b[39m)\n\u001b[1;32m      <a href='vscode-notebook-cell:/Users/cusniwtt/Documents/GitHub/Automatic-cell-counting-in-immunofluorescence-tissue/image_processing.ipynb#X11sZmlsZQ%3D%3D?line=5'>6</a>\u001b[0m \u001b[39mfor\u001b[39;00m file \u001b[39min\u001b[39;00m files:\n",
      "\u001b[0;31mTypeError\u001b[0m: argument of type 'NoneType' is not iterable"
     ]
    }
   ],
   "source": [
    "root = 'Dataset/DAPI/4x4'\n",
    "files = os.listdir(root)\n",
    "files = files.sort()\n",
    "if '.DS_Store' in files: # for macOS file system\n",
    "    files.remove('.DS_Store')\n",
    "for file in files:\n",
    "    file = root + '/' + file\n",
    "print(files[0:3])\n",
    "print(len(files))"
   ]
  }
 ],
 "metadata": {
  "kernelspec": {
   "display_name": "Python 3.9.13 ('tf')",
   "language": "python",
   "name": "python3"
  },
  "language_info": {
   "codemirror_mode": {
    "name": "ipython",
    "version": 3
   },
   "file_extension": ".py",
   "mimetype": "text/x-python",
   "name": "python",
   "nbconvert_exporter": "python",
   "pygments_lexer": "ipython3",
   "version": "3.9.13"
  },
  "orig_nbformat": 4,
  "vscode": {
   "interpreter": {
    "hash": "55602505796b395471532f5081df3c4fcef54cf33e498b3a10cf72378715fc4c"
   }
  }
 },
 "nbformat": 4,
 "nbformat_minor": 2
}
